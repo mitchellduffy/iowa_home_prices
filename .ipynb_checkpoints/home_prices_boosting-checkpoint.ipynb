{
 "cells": [
  {
   "cell_type": "markdown",
   "metadata": {},
   "source": [
    "Imports"
   ]
  },
  {
   "cell_type": "code",
   "execution_count": 1,
   "metadata": {},
   "outputs": [],
   "source": [
    "import pandas as pd\n",
    "from sklearn.metrics import mean_absolute_error\n",
    "from sklearn.model_selection import train_test_split\n",
    "from sklearn.preprocessing import Imputer\n",
    "from xgboost import XGBRegressor\n",
    "from sklearn.pipeline import make_pipeline"
   ]
  },
  {
   "cell_type": "markdown",
   "metadata": {},
   "source": [
    "Import the Iowa data and define the target (y) vs. rest (X) of the data which could be used for building the model to predict y."
   ]
  },
  {
   "cell_type": "code",
   "execution_count": 2,
   "metadata": {},
   "outputs": [],
   "source": [
    "main_file_path = './data/' # this is the path to the Iowa data that you will use\n",
    "data = pd.read_csv(main_file_path + 'train.csv') # load the training dataset\n",
    "data.dropna(axis=0, subset=['SalePrice'], inplace=True) # if a row is missing the sale price, drop it\n",
    "\n",
    "# Read the test data\n",
    "test = pd.read_csv(main_file_path + 'test.csv') # read in the Kaggle competition evaluation data\n",
    "\n",
    "y = data.SalePrice # define the target\n",
    "X = data.drop(['SalePrice'], axis=1) # get rid of the target from list of features"
   ]
  },
  {
   "cell_type": "markdown",
   "metadata": {},
   "source": [
    "Create one hot encoded categorical variables"
   ]
  },
  {
   "cell_type": "code",
   "execution_count": 3,
   "metadata": {},
   "outputs": [],
   "source": [
    "one_hot_encoded_training = pd.get_dummies(X) # perform one hot encoding on training data\n",
    "\n",
    "one_hot_encoded_test = pd.get_dummies(test) # also perform it on final evaluation data\n",
    "\n",
    "final_train, final_test = one_hot_encoded_training.align(one_hot_encoded_test, join='inner', axis=1) # ensure that the columns are synced between the two datasets\n"
   ]
  },
  {
   "cell_type": "markdown",
   "metadata": {},
   "source": [
    "Split the data into training and test data."
   ]
  },
  {
   "cell_type": "code",
   "execution_count": 4,
   "metadata": {},
   "outputs": [],
   "source": [
    "train_X, val_X, train_y, val_y = train_test_split(final_train, y, random_state = 0)"
   ]
  },
  {
   "cell_type": "markdown",
   "metadata": {},
   "source": [
    "Create an Imputer -> XGBRegressor pipeline. The values were determined by some manual tuning. In the future I would hope to use a more rigorous approach as I did before with the RandomForest in order to tune the hyperparameters.\n",
    "\n",
    "The pipeline is generated, trained and then used to predict on the test set."
   ]
  },
  {
   "cell_type": "code",
   "execution_count": 19,
   "metadata": {},
   "outputs": [
    {
     "name": "stdout",
     "output_type": "stream",
     "text": [
      "15577.478788527398\n"
     ]
    }
   ],
   "source": [
    "pipeline = make_pipeline(Imputer(), XGBRegressor(n_estimators=1000, learning_rate=0.08, early_stopping_rounds=8, eval_set=[(val_X, val_y)], verbose=False))\n",
    "pipeline.fit(train_X, train_y)\n",
    "\n",
    "y_preds = pipeline.predict(val_X)\n",
    "\n",
    "output_score = mean_absolute_error(val_y, y_preds)\n",
    "print(output_score)"
   ]
  },
  {
   "cell_type": "markdown",
   "metadata": {},
   "source": [
    "Submission generation code"
   ]
  },
  {
   "cell_type": "code",
   "execution_count": 20,
   "metadata": {},
   "outputs": [
    {
     "name": "stdout",
     "output_type": "stream",
     "text": [
      "[123090.33  170380.52  190820.97  ... 145931.64  108412.266 226818.34 ]\n"
     ]
    }
   ],
   "source": [
    "# Use the model to make predictions\n",
    "predicted_prices = pipeline.predict(final_test)\n",
    "# We will look at the predicted prices to ensure we have something sensible.\n",
    "print(predicted_prices)\n",
    "\n",
    "my_submission = pd.DataFrame({'Id': test.Id, 'SalePrice': predicted_prices})\n",
    "# you could use any filename. We choose submission here\n",
    "my_submission.to_csv('submission.csv', index=False)"
   ]
  }
 ],
 "metadata": {
  "kernelspec": {
   "display_name": "Python 2",
   "language": "python",
   "name": "python2"
  },
  "language_info": {
   "codemirror_mode": {
    "name": "ipython",
    "version": 2
   },
   "file_extension": ".py",
   "mimetype": "text/x-python",
   "name": "python",
   "nbconvert_exporter": "python",
   "pygments_lexer": "ipython2",
   "version": "2.7.15"
  }
 },
 "nbformat": 4,
 "nbformat_minor": 2
}
