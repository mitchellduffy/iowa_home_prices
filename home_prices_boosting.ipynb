{
 "cells": [
  {
   "cell_type": "markdown",
   "metadata": {},
   "source": [
    "Imports"
   ]
  },
  {
   "cell_type": "code",
   "execution_count": 80,
   "metadata": {},
   "outputs": [],
   "source": [
    "import pandas as pd\n",
    "from sklearn.metrics import mean_absolute_error\n",
    "from sklearn.model_selection import train_test_split\n",
    "from sklearn.ensemble import RandomForestRegressor\n",
    "from sklearn.preprocessing import Imputer\n",
    "from xgboost import XGBRegressor\n",
    "from sklearn.pipeline import make_pipeline"
   ]
  },
  {
   "cell_type": "markdown",
   "metadata": {},
   "source": [
    "Import the Iowa data and define the target (y) vs. rest (X) of the data which could be used for building the model to predict y."
   ]
  },
  {
   "cell_type": "code",
   "execution_count": 81,
   "metadata": {},
   "outputs": [],
   "source": [
    "main_file_path = './data/' # this is the path to the Iowa data that you will use\n",
    "data = pd.read_csv(main_file_path + 'train.csv') # load the training dataset\n",
    "data.dropna(axis=0, subset=['SalePrice'], inplace=True) # if a row is missing the sale price, drop it\n",
    "\n",
    "# Read the test data\n",
    "test = pd.read_csv(main_file_path + 'test.csv') # read in the Kaggle competition evaluation data\n",
    "\n",
    "y = data.SalePrice # define the target\n",
    "X = data.drop(['SalePrice'], axis=1) # get rid of the target from list of features"
   ]
  },
  {
   "cell_type": "markdown",
   "metadata": {},
   "source": [
    "Create one hot encoded categorical variables"
   ]
  },
  {
   "cell_type": "code",
   "execution_count": 82,
   "metadata": {},
   "outputs": [],
   "source": [
    "one_hot_encoded_training = pd.get_dummies(X) # perform one hot encoding on training data\n",
    "num_o_h_e_training = one_hot_encoded_training.select_dtypes(exclude=['object'])\n",
    "one_hot_encoded_test = pd.get_dummies(test) # also perform it on final evaluation data\n",
    "num_o_h_e_test = one_hot_encoded_test.select_dtypes(exclude=['object'])\n",
    "final_train, final_test = one_hot_encoded_training.align(one_hot_encoded_test, join='inner', axis=1) # ensure that the columns are synced between the two datasets"
   ]
  },
  {
   "cell_type": "markdown",
   "metadata": {},
   "source": [
    "Split the data into training and test data."
   ]
  },
  {
   "cell_type": "code",
   "execution_count": 91,
   "metadata": {},
   "outputs": [],
   "source": [
    "train_X, val_X, train_y, val_y = train_test_split(X, y, random_state = 0)"
   ]
  },
  {
   "cell_type": "markdown",
   "metadata": {},
   "source": [
    "placeholder"
   ]
  },
  {
   "cell_type": "code",
   "execution_count": 96,
   "metadata": {},
   "outputs": [
    {
     "name": "stdout",
     "output_type": "stream",
     "text": [
      "15900.888741438355\n"
     ]
    }
   ],
   "source": [
    "pipeline = make_pipeline(Imputer(), XGBRegressor(n_estimators=1000, learning_rate=0.08))\n",
    "pipeline.fit(train_X, train_y, xgbregressor__early_stopping_rounds = 8, xgbregressor__eval_set = [(val_X, val_y)], xgbregressor__verbose=False)\n",
    "y_preds = pipeline.predict(val_X)\n",
    "output_score = mean_absolute_error(val_y, y_preds)\n",
    "print(output_score)"
   ]
  },
  {
   "cell_type": "markdown",
   "metadata": {},
   "source": [
    "Submission generation code"
   ]
  },
  {
   "cell_type": "code",
   "execution_count": 97,
   "metadata": {},
   "outputs": [
    {
     "name": "stdout",
     "output_type": "stream",
     "text": [
      "[122183.87 165347.34 182069.83 ... 147391.1  123465.55 241406.47]\n"
     ]
    }
   ],
   "source": [
    "# Use the model to make predictions\n",
    "predicted_prices = pipeline.predict(final_test)\n",
    "# We will look at the predicted prices to ensure we have something sensible.\n",
    "print(predicted_prices)\n",
    "\n",
    "my_submission = pd.DataFrame({'Id': test.Id, 'SalePrice': predicted_prices})\n",
    "# you could use any filename. We choose submission here\n",
    "my_submission.to_csv('submission.csv', index=False)"
   ]
  },
  {
   "cell_type": "code",
   "execution_count": null,
   "metadata": {},
   "outputs": [],
   "source": []
  },
  {
   "cell_type": "code",
   "execution_count": null,
   "metadata": {},
   "outputs": [],
   "source": []
  }
 ],
 "metadata": {
  "kernelspec": {
   "display_name": "Python 2",
   "language": "python",
   "name": "python2"
  },
  "language_info": {
   "codemirror_mode": {
    "name": "ipython",
    "version": 2
   },
   "file_extension": ".py",
   "mimetype": "text/x-python",
   "name": "python",
   "nbconvert_exporter": "python",
   "pygments_lexer": "ipython2",
   "version": "2.7.15"
  }
 },
 "nbformat": 4,
 "nbformat_minor": 2
}
